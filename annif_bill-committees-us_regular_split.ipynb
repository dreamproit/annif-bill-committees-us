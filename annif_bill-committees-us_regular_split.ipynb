{
 "cells": [
  {
   "cell_type": "code",
   "execution_count": null,
   "metadata": {},
   "outputs": [],
   "source": []
  },
  {
   "cell_type": "code",
   "execution_count": null,
   "metadata": {},
   "outputs": [],
   "source": []
  },
  {
   "cell_type": "code",
   "execution_count": null,
   "metadata": {},
   "outputs": [],
   "source": []
  },
  {
   "cell_type": "code",
   "execution_count": null,
   "metadata": {},
   "outputs": [],
   "source": []
  },
  {
   "cell_type": "code",
   "execution_count": null,
   "metadata": {},
   "outputs": [],
   "source": []
  },
  {
   "cell_type": "code",
   "execution_count": null,
   "metadata": {},
   "outputs": [],
   "source": []
  },
  {
   "cell_type": "code",
   "execution_count": null,
   "metadata": {},
   "outputs": [],
   "source": []
  },
  {
   "cell_type": "code",
   "execution_count": 1,
   "metadata": {},
   "outputs": [
    {
     "name": "stdout",
     "output_type": "stream",
     "text": [
      "/usr/lib/python3.10/runpy.py:126: RuntimeWarning: 'nltk.downloader' found in sys.modules after import of package 'nltk', but prior to execution of 'nltk.downloader'; this may result in unpredictable behaviour\n",
      "  warn(RuntimeWarning(msg))\n",
      "[nltk_data] Downloading package punkt to /root/nltk_data...\n",
      "[nltk_data]   Package punkt is already up-to-date!\n"
     ]
    }
   ],
   "source": [
    "! python -m nltk.downloader punkt"
   ]
  },
  {
   "cell_type": "code",
   "execution_count": 2,
   "metadata": {},
   "outputs": [
    {
     "data": {
      "text/plain": [
       "'1.26.4'"
      ]
     },
     "execution_count": 2,
     "metadata": {},
     "output_type": "execute_result"
    }
   ],
   "source": [
    "import numpy as np\n",
    "np.__version__"
   ]
  },
  {
   "cell_type": "code",
   "execution_count": 3,
   "metadata": {},
   "outputs": [
    {
     "data": {
      "text/plain": [
       "Dataset({\n",
       "    features: ['id', 'congress', 'bill_type', 'bill_number', 'bill_version', 'title', 'sections', 'sections_length', 'text', 'text_length', 'committees'],\n",
       "    num_rows: 132142\n",
       "})"
      ]
     },
     "execution_count": 3,
     "metadata": {},
     "output_type": "execute_result"
    }
   ],
   "source": [
    "from datasets import load_dataset\n",
    "\n",
    "dataset = load_dataset(\"dreamproit/bill_committees_us\", split='train') # the original dataset only has a \"train\" split\n",
    "dataset"
   ]
  },
  {
   "cell_type": "code",
   "execution_count": 4,
   "metadata": {},
   "outputs": [
    {
     "data": {
      "text/plain": [
       "DatasetDict({\n",
       "    train: Dataset({\n",
       "        features: ['id', 'congress', 'bill_type', 'bill_number', 'bill_version', 'title', 'sections', 'sections_length', 'text', 'text_length', 'committees'],\n",
       "        num_rows: 92499\n",
       "    })\n",
       "    test: Dataset({\n",
       "        features: ['id', 'congress', 'bill_type', 'bill_number', 'bill_version', 'title', 'sections', 'sections_length', 'text', 'text_length', 'committees'],\n",
       "        num_rows: 39643\n",
       "    })\n",
       "})"
      ]
     },
     "execution_count": 4,
     "metadata": {},
     "output_type": "execute_result"
    }
   ],
   "source": [
    "ds_split = dataset.train_test_split(test_size=0.3)\n",
    "ds_split"
   ]
  },
  {
   "cell_type": "code",
   "execution_count": 5,
   "metadata": {},
   "outputs": [
    {
     "name": "stdout",
     "output_type": "stream",
     "text": [
      "House Committees:  30\n",
      "{'Agriculture': 'https://www.congress.gov/committee/house-agriculture/hsag00',\n",
      " 'Appropriations': 'https://www.congress.gov/committee/house-appropriations/hsap00',\n",
      " 'Armed Services': 'https://www.congress.gov/committee/house-armed-services/hsas00',\n",
      " 'Budget': 'https://www.congress.gov/committee/house-budget/hsbu00',\n",
      " 'Commission on Security and Cooperation in Europe': 'https://www.congress.gov/committee/the-helsinki-commission/jcse00',\n",
      " 'Congressional-Executive Commission on China': 'https://www.congress.gov/committee/congressional-executive-commission-on-china/jcpk00',\n",
      " 'Education and the Workforce': 'https://www.congress.gov/committee/house-education-and-the-workforce/hsed00',\n",
      " 'Energy and Commerce': 'https://www.congress.gov/committee/house-energy-and-commerce/hsif00',\n",
      " 'Ethics': 'https://www.congress.gov/committee/house-ethics/hsso00',\n",
      " 'Financial Services': 'https://www.congress.gov/committee/house-financial-services/hsba00',\n",
      " 'Foreign Affairs': 'https://www.congress.gov/committee/house-foreign-affairs/hsfa00',\n",
      " 'Homeland Security': 'https://www.congress.gov/committee/house-homeland-security/hshm00',\n",
      " 'House Administration': 'https://www.congress.gov/committee/committee-on-house-administration/hsha00',\n",
      " 'House Democracy Partnership': 'https://hdp.house.gov/',\n",
      " 'House Permanent Select Committee on Intelligence': 'https://www.congress.gov/committee/house-intelligence-permanent-select/hlig00',\n",
      " 'Joint Committee on Printing': 'https://www.congress.gov/committee/joint-committee-on-printing/jspr00%3E',\n",
      " 'Joint Committee on Taxation': 'https://www.congress.gov/committee/joint-committee-on-taxation/jstx00%3E',\n",
      " 'Joint Committee on the Library': 'https://www.congress.gov/committee/joint-committee-on-the-library/jslc00%3E',\n",
      " 'Joint Economic Committee': 'https://www.congress.gov/committee/joint-economic-committee/jsec00%3E',\n",
      " 'Judiciary': 'https://www.congress.gov/committee/house-judiciary/hsju00',\n",
      " 'Natural Resources': 'https://www.congress.gov/committee/house-natural-resources/hsii00',\n",
      " 'Oversight and Accountability': 'https://www.congress.gov/committee/house-oversight-and-accountability/hsgo00',\n",
      " 'Rules': 'https://www.congress.gov/committee/house-rules/hsru00',\n",
      " 'Science, Space, and Technology': 'https://www.congress.gov/committee/house-science-space-and-technology/hssy00',\n",
      " 'Select Committee on the Strategic Competition Between the United States and the Chinese Communist Party': 'https://www.congress.gov/committee/house-select-committee-on-the-strategic-competition-between-the-united-states-and-the-chinese-communist-party/hlzs00',\n",
      " 'Small Business': 'https://www.congress.gov/committee/house-small-business/hssm00',\n",
      " 'Tom Lantos Human Rights Commission': 'http://tlhrc.house.gov/',\n",
      " 'Transportation and Infrastructure': 'https://www.congress.gov/committee/house-transportation-and-infrastructure/hspw00',\n",
      " \"Veterans' Affairs\": 'https://www.congress.gov/committee/house-veterans-affairs/hsvr00',\n",
      " 'Ways and Means': 'https://www.congress.gov/committee/house-ways-and-means/hswm00'}\n",
      "Senate Committees:  26\n",
      "{'Aging (Special)': 'https://www.congress.gov/committee/senate-aging-special/spag00',\n",
      " 'Agriculture, Nutrition, and Forestry': 'https://www.congress.gov/committee/senate-agriculture-nutrition-and-forestry/ssaf00',\n",
      " 'Appropriations': 'https://www.congress.gov/committee/senate-appropriations/ssap00',\n",
      " 'Armed Services': 'https://www.congress.gov/committee/senate-armed-services/ssas00',\n",
      " 'Banking, Housing, and Urban Affairs': 'https://www.congress.gov/committee/senate-banking-housing-and-urban-affairs/ssbk00',\n",
      " 'Budget': 'https://www.congress.gov/committee/senate-budget/ssbu00',\n",
      " 'Caucus on International Narcotics Control': 'https://www.congress.gov/committee/senate-caucus-on-international-narcotics-control/scnc00',\n",
      " 'Commerce, Science, and Transportation': 'https://www.congress.gov/committee/senate-commerce-science-and-transportation/sscm00',\n",
      " 'Congressional Oversight Commission': 'https://www.congress.gov/committee/congressional-oversight-commission/jcov00',\n",
      " 'Energy and Natural Resources': 'https://www.congress.gov/committee/senate-energy-and-natural-resources/sseg00',\n",
      " 'Environment and Public Works': 'https://www.congress.gov/committee/senate-environment-and-public-works/ssev00',\n",
      " 'Ethics (Select)': 'https://www.congress.gov/committee/senate-ethics-select/slet00',\n",
      " 'Finance': 'https://www.congress.gov/committee/senate-finance/ssfi00',\n",
      " 'Foreign Relations': 'https://www.congress.gov/committee/senate-foreign-relations/ssfr00',\n",
      " 'Health, Education, Labor, and Pensions': 'https://www.congress.gov/committee/senate-health-education-labor-and-pensions/sshr00',\n",
      " 'Homeland Security and Governmental Affairs': 'https://www.congress.gov/committee/senate-homeland-security-and-governmental-affairs/ssga00',\n",
      " 'Indian Affairs': 'https://www.congress.gov/committee/senate-indian-affairs/slia00',\n",
      " 'Intelligence (Select)': 'https://www.congress.gov/committee/senate-intelligence-select/slin00',\n",
      " 'Joint Committee on Printing': 'https://www.congress.gov/committee/joint-committee-on-printing/jspr00%3E',\n",
      " 'Joint Committee on Taxation': 'https://www.congress.gov/committee/joint-committee-on-taxation/jstx00%3E',\n",
      " 'Joint Committee on the Library': 'https://www.congress.gov/committee/joint-committee-on-the-library/jslc00%3E',\n",
      " 'Joint Economic Committee': 'https://www.congress.gov/committee/joint-economic-committee/jsec00%3E',\n",
      " 'Judiciary': 'https://www.congress.gov/committee/senate-judiciary/ssju00',\n",
      " 'Rules and Administration': 'https://www.congress.gov/committee/senate-rules-and-administration/ssra00',\n",
      " 'Small Business and Entrepreneurship': 'https://www.congress.gov/committee/senate-small-business-and-entrepreneurship/sssb00',\n",
      " \"Veterans' Affairs\": 'https://www.congress.gov/committee/senate-veterans-affairs/ssva00'}\n"
     ]
    }
   ],
   "source": [
    "import pprint\n",
    "\n",
    "# List of dictionaries\n",
    "committees = [\n",
    "    {\"href\":\"https://www.congress.gov/committee/house-agriculture/hsag00\",\"name\":\"Agriculture\"},\n",
    "    {\"href\":\"https://www.congress.gov/committee/house-appropriations/hsap00\",\"name\":\"Appropriations\"},\n",
    "    {\"href\":\"https://www.congress.gov/committee/house-armed-services/hsas00\",\"name\":\"Armed Services\"},\n",
    "    {\"href\":\"https://www.congress.gov/committee/house-budget/hsbu00\",\"name\":\"Budget\"},\n",
    "    {\"href\":\"https://www.congress.gov/committee/house-education-and-the-workforce/hsed00\",\"name\":\"Education and the Workforce\"},\n",
    "    {\"href\":\"https://www.congress.gov/committee/house-energy-and-commerce/hsif00\",\"name\":\"Energy and Commerce\"},\n",
    "    {\"href\":\"https://www.congress.gov/committee/house-ethics/hsso00\",\"name\":\"Ethics\"},\n",
    "    {\"href\":\"https://www.congress.gov/committee/house-financial-services/hsba00\",\"name\":\"Financial Services\"},\n",
    "    {\"href\":\"https://www.congress.gov/committee/house-foreign-affairs/hsfa00\",\"name\":\"Foreign Affairs\"},\n",
    "    {\"href\":\"https://www.congress.gov/committee/house-homeland-security/hshm00\",\"name\":\"Homeland Security\"},\n",
    "    {\"href\":\"https://www.congress.gov/committee/committee-on-house-administration/hsha00\",\"name\":\"House Administration\"},\n",
    "    {\"href\":\"https://www.congress.gov/committee/house-judiciary/hsju00\",\"name\":\"Judiciary\"},\n",
    "    {\"href\":\"https://www.congress.gov/committee/house-natural-resources/hsii00\",\"name\":\"Natural Resources\"},\n",
    "    {\"href\":\"https://www.congress.gov/committee/house-oversight-and-accountability/hsgo00\",\"name\":\"Oversight and Accountability\"},\n",
    "    {\"href\":\"https://www.congress.gov/committee/house-rules/hsru00\",\"name\":\"Rules\"},\n",
    "    {\"href\":\"https://www.congress.gov/committee/house-science-space-and-technology/hssy00\",\"name\":\"Science, Space, and Technology\"},\n",
    "    {\"href\":\"https://www.congress.gov/committee/house-small-business/hssm00\",\"name\":\"Small Business\"},\n",
    "    {\"href\":\"https://www.congress.gov/committee/house-transportation-and-infrastructure/hspw00\",\"name\":\"Transportation and Infrastructure\"},\n",
    "    {\"href\":\"https://www.congress.gov/committee/house-veterans-affairs/hsvr00\",\"name\":\"Veterans' Affairs\"},\n",
    "    {\"href\":\"https://www.congress.gov/committee/house-ways-and-means/hswm00\",\"name\":\"Ways and Means\"},\n",
    "    {\"href\":\"https://www.congress.gov/committee/senate-agriculture-nutrition-and-forestry/ssaf00\",\"name\":\"Agriculture, Nutrition, and Forestry\"},\n",
    "    {\"href\":\"https://www.congress.gov/committee/senate-appropriations/ssap00\",\"name\":\"Appropriations\"},\n",
    "    {\"href\":\"https://www.congress.gov/committee/senate-armed-services/ssas00\",\"name\":\"Armed Services\"},\n",
    "    {\"href\":\"https://www.congress.gov/committee/senate-banking-housing-and-urban-affairs/ssbk00\",\"name\":\"Banking, Housing, and Urban Affairs\"},\n",
    "    {\"href\":\"https://www.congress.gov/committee/senate-budget/ssbu00\",\"name\":\"Budget\"},\n",
    "    {\"href\":\"https://www.congress.gov/committee/senate-commerce-science-and-transportation/sscm00\",\"name\":\"Commerce, Science, and Transportation\"},\n",
    "    {\"href\":\"https://www.congress.gov/committee/senate-energy-and-natural-resources/sseg00\",\"name\":\"Energy and Natural Resources\"},\n",
    "    {\"href\":\"https://www.congress.gov/committee/senate-environment-and-public-works/ssev00\",\"name\":\"Environment and Public Works\"},\n",
    "    {\"href\":\"https://www.congress.gov/committee/senate-finance/ssfi00\",\"name\":\"Finance\"},\n",
    "    {\"href\":\"https://www.congress.gov/committee/senate-foreign-relations/ssfr00\",\"name\":\"Foreign Relations\"},\n",
    "    {\"href\":\"https://www.congress.gov/committee/senate-health-education-labor-and-pensions/sshr00\",\"name\":\"Health, Education, Labor, and Pensions\"},\n",
    "    {\"href\":\"https://www.congress.gov/committee/senate-homeland-security-and-governmental-affairs/ssga00\",\"name\":\"Homeland Security and Governmental Affairs\"},\n",
    "    {\"href\":\"https://www.congress.gov/committee/senate-judiciary/ssju00\",\"name\":\"Judiciary\"},\n",
    "    {\"href\":\"https://www.congress.gov/committee/senate-rules-and-administration/ssra00\",\"name\":\"Rules and Administration\"},\n",
    "    {\"href\":\"https://www.congress.gov/committee/senate-small-business-and-entrepreneurship/sssb00\",\"name\":\"Small Business and Entrepreneurship\"},\n",
    "    {\"href\":\"https://www.congress.gov/committee/senate-veterans-affairs/ssva00\",\"name\":\"Veterans' Affairs\"},\n",
    "    {\"href\":\"https://www.congress.gov/committee/house-intelligence-permanent-select/hlig00\",\"name\":\"House Permanent Select Committee on Intelligence\"},\n",
    "    {\"href\":\"https://www.congress.gov/committee/house-select-committee-on-the-strategic-competition-between-the-united-states-and-the-chinese-communist-party/hlzs00\",\"name\":\"Select Committee on the Strategic Competition Between the United States and the Chinese Communist Party\"},\n",
    "    {\"href\":\"https://www.congress.gov/committee/senate-aging-special/spag00\",\"name\":\"Aging (Special)\"},\n",
    "    {\"href\":\"https://www.congress.gov/committee/senate-caucus-on-international-narcotics-control/scnc00\",\"name\":\"Caucus on International Narcotics Control\"},\n",
    "    {\"href\":\"https://www.congress.gov/committee/senate-ethics-select/slet00\",\"name\":\"Ethics (Select)\"},\n",
    "    {\"href\":\"https://www.congress.gov/committee/senate-indian-affairs/slia00\",\"name\":\"Indian Affairs\"},\n",
    "    {\"href\":\"https://www.congress.gov/committee/senate-intelligence-select/slin00\",\"name\":\"Intelligence (Select)\"},\n",
    "    {\"href\":\"https://www.congress.gov/committee/joint-committee-on-printing/jspr00%3E\",\"name\":\"Joint Committee on Printing\"},\n",
    "    {\"href\":\"https://www.congress.gov/committee/joint-committee-on-taxation/jstx00%3E\",\"name\":\"Joint Committee on Taxation\"},\n",
    "    {\"href\":\"https://www.congress.gov/committee/joint-committee-on-the-library/jslc00%3E\",\"name\":\"Joint Committee on the Library\"},\n",
    "    {\"href\":\"https://www.congress.gov/committee/joint-economic-committee/jsec00%3E\",\"name\":\"Joint Economic Committee\"},\n",
    "    # {\"href\":\"https://www.congress.gov/committee/the-helsinki-commission/jcse00\",\"name\":\"Commission on Security and Cooperation in Europe\"},\n",
    "    # {\"href\":\"https://www.congress.gov/committee/congressional-executive-commission-on-china/jcpk00\",\"name\":\"Congressional-Executive Commission on China\"},\n",
    "    # {\"href\":\"http://tlhrc.house.gov/\",\"name\":\"Tom Lantos Human Rights Commission\"},\n",
    "    # {\"href\":\"https://hdp.house.gov/\",\"name\":\"House Democracy Partnership\"},\n",
    "    # {\"href\":\"https://www.congress.gov/committee/congressional-oversight-commission/jcov00\",\"name\":\"Congressional Oversight Commission\"}\n",
    "]\n",
    "\n",
    "house_edge_cases = [\n",
    "    {\"href\":\"https://www.congress.gov/committee/the-helsinki-commission/jcse00\",\"name\":\"Commission on Security and Cooperation in Europe\"},\n",
    "    {\"href\":\"https://www.congress.gov/committee/congressional-executive-commission-on-china/jcpk00\",\"name\":\"Congressional-Executive Commission on China\"},\n",
    "    {\"href\":\"http://tlhrc.house.gov/\",\"name\":\"Tom Lantos Human Rights Commission\"},\n",
    "    {\"href\":\"https://hdp.house.gov/\",\"name\":\"House Democracy Partnership\"},\n",
    "]\n",
    "senate_edge_cases = [\n",
    "    {\"href\":\"https://www.congress.gov/committee/congressional-oversight-commission/jcov00\",\"name\":\"Congressional Oversight Commission\"}\n",
    "]\n",
    "\n",
    "house_committees = {committee['name']: committee['href'] for committee in committees if 'senate' not in committee['href']}\n",
    "for committee in house_edge_cases:\n",
    "    house_committees[committee['name']] = committee['href']\n",
    "senate_committees = {committee['name']: committee['href'] for committee in committees if 'house' not in committee['href']}\n",
    "for committee in senate_edge_cases:\n",
    "    senate_committees[committee['name']] = committee['href']\n",
    "\n",
    "print(\"House Committees: \", len(house_committees))\n",
    "pprint.pprint(house_committees)\n",
    "print(\"Senate Committees: \", len(senate_committees))\n",
    "pprint.pprint(senate_committees)"
   ]
  },
  {
   "cell_type": "code",
   "execution_count": 6,
   "metadata": {},
   "outputs": [
    {
     "name": "stdout",
     "output_type": "stream",
     "text": [
      "edge cases: Commission on Security and Cooperation in Europe (U.S. Helsinki Commission)\n",
      "edge cases: Committee on House Administration\n",
      "edge cases: Intelligence (Permanent Select) Committee\n",
      "edge cases: United States Senate Caucus on International Narcotics Control\n",
      "38\n",
      "[{'uri': 'https://www.congress.gov/committee/senate-aging-special/spag00', 'label_en': 'Aging (Special) Committee'}, {'uri': 'https://www.congress.gov/committee/house-agriculture/hsag00', 'label_en': 'Agriculture Committee'}, {'uri': 'https://www.congress.gov/committee/senate-agriculture-nutrition-and-forestry/ssaf00', 'label_en': 'Agriculture, Nutrition, and Forestry Committee'}, {'uri': 'https://www.congress.gov/committee/house-appropriations/hsap00', 'label_en': 'Appropriations Committee'}, {'uri': 'https://www.congress.gov/committee/house-armed-services/hsas00', 'label_en': 'Armed Services Committee'}, {'uri': 'https://www.congress.gov/committee/senate-banking-housing-and-urban-affairs/ssbk00', 'label_en': 'Banking, Housing, and Urban Affairs Committee'}, {'uri': 'https://www.congress.gov/committee/house-budget/hsbu00', 'label_en': 'Budget Committee'}, {'uri': 'https://www.congress.gov/committee/senate-commerce-science-and-transportation/sscm00', 'label_en': 'Commerce, Science, and Transportation Committee'}, {'uri': 'https://www.congress.gov/committee/the-helsinki-commission/jcse00', 'label_en': 'Commission on Security and Cooperation in Europe (U.S. Helsinki Commission)'}, {'uri': 'https://www.congress.gov/committee/committee-on-house-administration/hsha00', 'label_en': 'Committee on House Administration'}, {'uri': 'https://www.congress.gov/committee/house-education-and-the-workforce/hsed00', 'label_en': 'Education and the Workforce Committee'}, {'uri': 'https://www.congress.gov/committee/house-energy-and-commerce/hsif00', 'label_en': 'Energy and Commerce Committee'}, {'uri': 'https://www.congress.gov/committee/senate-energy-and-natural-resources/sseg00', 'label_en': 'Energy and Natural Resources Committee'}, {'uri': 'https://www.congress.gov/committee/senate-environment-and-public-works/ssev00', 'label_en': 'Environment and Public Works Committee'}, {'uri': 'https://www.congress.gov/committee/senate-ethics-select/slet00', 'label_en': 'Ethics (Select) Committee'}, {'uri': 'https://www.congress.gov/committee/house-ethics/hsso00', 'label_en': 'Ethics Committee'}, {'uri': 'https://www.congress.gov/committee/senate-finance/ssfi00', 'label_en': 'Finance Committee'}, {'uri': 'https://www.congress.gov/committee/house-financial-services/hsba00', 'label_en': 'Financial Services Committee'}, {'uri': 'https://www.congress.gov/committee/house-foreign-affairs/hsfa00', 'label_en': 'Foreign Affairs Committee'}, {'uri': 'https://www.congress.gov/committee/senate-foreign-relations/ssfr00', 'label_en': 'Foreign Relations Committee'}, {'uri': 'https://www.congress.gov/committee/senate-health-education-labor-and-pensions/sshr00', 'label_en': 'Health, Education, Labor, and Pensions Committee'}, {'uri': 'https://www.congress.gov/committee/house-homeland-security/hshm00', 'label_en': 'Homeland Security Committee'}, {'uri': 'https://www.congress.gov/committee/senate-homeland-security-and-governmental-affairs/ssga00', 'label_en': 'Homeland Security and Governmental Affairs Committee'}, {'uri': 'https://www.congress.gov/committee/senate-indian-affairs/slia00', 'label_en': 'Indian Affairs Committee'}, {'uri': 'https://www.congress.gov/committee/senate-intelligence-select/slin00', 'label_en': 'Intelligence (Permanent Select) Committee'}, {'uri': 'https://www.congress.gov/committee/senate-intelligence-select/slin00', 'label_en': 'Intelligence (Select) Committee'}, {'uri': 'https://www.congress.gov/committee/house-judiciary/hsju00', 'label_en': 'Judiciary Committee'}, {'uri': 'https://www.congress.gov/committee/house-natural-resources/hsii00', 'label_en': 'Natural Resources Committee'}, {'uri': 'https://www.congress.gov/committee/house-oversight-and-accountability/hsgo00', 'label_en': 'Oversight and Accountability Committee'}, {'uri': 'https://www.congress.gov/committee/house-rules/hsru00', 'label_en': 'Rules Committee'}, {'uri': 'https://www.congress.gov/committee/senate-rules-and-administration/ssra00', 'label_en': 'Rules and Administration Committee'}, {'uri': 'https://www.congress.gov/committee/house-science-space-and-technology/hssy00', 'label_en': 'Science, Space, and Technology Committee'}, {'uri': 'https://www.congress.gov/committee/house-small-business/hssm00', 'label_en': 'Small Business Committee'}, {'uri': 'https://www.congress.gov/committee/senate-small-business-and-entrepreneurship/sssb00', 'label_en': 'Small Business and Entrepreneurship Committee'}, {'uri': 'https://www.congress.gov/committee/house-transportation-and-infrastructure/hspw00', 'label_en': 'Transportation and Infrastructure Committee'}, {'uri': 'https://www.congress.gov/committee/senate-caucus-on-international-narcotics-control/scnc00', 'label_en': 'United States Senate Caucus on International Narcotics Control'}, {'uri': 'https://www.congress.gov/committee/house-veterans-affairs/hsvr00', 'label_en': \"Veterans' Affairs Committee\"}, {'uri': 'https://www.congress.gov/committee/house-ways-and-means/hswm00', 'label_en': 'Ways and Means Committee'}]\n"
     ]
    }
   ],
   "source": [
    "# Convert committees to Annif CSV vocabulary\n",
    "\n",
    "import csv\n",
    "\n",
    "FIELDS = ('uri', 'label_en')\n",
    "OUTFILE = 'committees.csv'\n",
    "committees = sorted(set([item for row in dataset['committees'] for item in row]))\n",
    "csv_items = []\n",
    "\n",
    "for idx, committee_name in enumerate(committees):\n",
    "    committee_name_first_part = committee_name.replace('Committee', '').strip()\n",
    "    # print(committee_name_first_part)\n",
    "    house_committee_url = house_committees.get(committee_name_first_part)\n",
    "    senate_committee_url = senate_committees.get(committee_name_first_part)\n",
    "    if house_committee_url:\n",
    "      uri = house_committee_url\n",
    "    elif senate_committee_url:\n",
    "      uri = senate_committee_url\n",
    "    else:\n",
    "      print(f'edge cases: {committee_name}')\n",
    "      if committee_name == 'Commission on Security and Cooperation in Europe (U.S. Helsinki Commission)':\n",
    "        committee_name_first_part = 'Commission on Security and Cooperation in Europe'\n",
    "        uri = house_committees.get(committee_name_first_part)\n",
    "      elif committee_name == 'Committee on House Administration':\n",
    "        committee_name_first_part = 'House Administration'\n",
    "        uri = house_committees.get(committee_name_first_part)\n",
    "      elif committee_name == 'Intelligence (Permanent Select) Committee':\n",
    "        committee_name_first_part = 'Intelligence (Select)'\n",
    "        uri = senate_committees.get(committee_name_first_part)\n",
    "      elif committee_name == 'United States Senate Caucus on International Narcotics Control':\n",
    "        committee_name_first_part = 'Caucus on International Narcotics Control'\n",
    "        uri = senate_committees.get(committee_name_first_part)\n",
    "\n",
    "    # uri = committees[committee_name]\n",
    "    item = {\n",
    "        'uri': uri,\n",
    "        'label_en': committee_name,\n",
    "    }\n",
    "    csv_items.append(item)\n",
    "print(len(csv_items))\n",
    "print(csv_items)\n",
    "\n",
    "with open(OUTFILE, 'w', newline='') as outfile:\n",
    "    writer = csv.DictWriter(outfile, fieldnames=FIELDS)\n",
    "    writer.writeheader()\n",
    "\n",
    "    for row in csv_items:\n",
    "        writer.writerow(row)"
   ]
  },
  {
   "cell_type": "code",
   "execution_count": 7,
   "metadata": {},
   "outputs": [
    {
     "name": "stdout",
     "output_type": "stream",
     "text": [
      "CPU times: user 3min 14s, sys: 2.95 s, total: 3min 17s\n",
      "Wall time: 3min 35s\n"
     ]
    }
   ],
   "source": [
    "%%time\n",
    "\n",
    "# create the commitees corpora from the train and test sets\n",
    "\n",
    "import gzip\n",
    "\n",
    "def normalize_text(text):\n",
    "    try:\n",
    "        return ' '.join(text.split())\n",
    "    except:\n",
    "        return ''\n",
    "\n",
    "def to_committees_corpus(ds, outfile):\n",
    "    for item in ds:\n",
    "        title = normalize_text(item['title'])\n",
    "        text = normalize_text(item['text'])\n",
    "        # uris = [f\"<{committees_uri[committee]}>\" for committee in item['committees']]\n",
    "        uris = []\n",
    "        for ds_committee in item['committees']:\n",
    "          for item in csv_items:\n",
    "            if ds_committee == item['label_en']:\n",
    "              uris.append(f'<{item[\"uri\"]}>')\n",
    "        line = f\"{title} ¤ {text}\\t{' '.join(uris)}\"\n",
    "        print(line, file=outfile)\n",
    "\n",
    "with gzip.open('committees-train.tsv.gz', 'wt') as outfile:\n",
    "    to_committees_corpus(ds_split['train'], outfile)\n",
    "\n",
    "with gzip.open('committees-test.tsv.gz', 'wt') as outfile:\n",
    "    to_committees_corpus(ds_split['test'], outfile)\n"
   ]
  },
  {
   "cell_type": "code",
   "execution_count": 8,
   "metadata": {},
   "outputs": [
    {
     "name": "stdout",
     "output_type": "stream",
     "text": [
      "Loading vocabulary from CSV file committees.csv...\n",
      "updating existing subject index\n",
      "saving vocabulary into SKOS file data/vocabs/cm/subjects.ttl\n"
     ]
    }
   ],
   "source": [
    "! annif load-vocab cm committees.csv"
   ]
  },
  {
   "cell_type": "code",
   "execution_count": 9,
   "metadata": {},
   "outputs": [
    {
     "name": "stdout",
     "output_type": "stream",
     "text": [
      "Backend mllm: starting train\n",
      "Backend mllm: preparing training data\n",
      "Backend mllm: training model\n",
      "Backend mllm: saving model\n"
     ]
    }
   ],
   "source": [
    "! annif train cm-mllm-en committees-train.tsv.gz"
   ]
  },
  {
   "cell_type": "code",
   "execution_count": 10,
   "metadata": {},
   "outputs": [
    {
     "name": "stdout",
     "output_type": "stream",
     "text": [
      "Precision (doc avg):          \t0.0853\n",
      "Recall (doc avg):             \t0.1329\n",
      "F1 score (doc avg):           \t0.0958\n",
      "Precision (subj avg):         \t0.3160\n",
      "Recall (subj avg):            \t0.1629\n",
      "F1 score (subj avg):          \t0.1981\n",
      "Precision (weighted subj avg):\t0.4266\n",
      "Recall (weighted subj avg):   \t0.1386\n",
      "F1 score (weighted subj avg): \t0.1918\n",
      "Precision (microavg):         \t0.4089\n",
      "Recall (microavg):            \t0.1386\n",
      "F1 score (microavg):          \t0.2070\n",
      "F1@5:                         \t0.0960\n",
      "NDCG:                         \t0.1178\n",
      "NDCG@5:                       \t0.1177\n",
      "NDCG@10:                      \t0.1179\n",
      "Precision@1:                  \t0.1020\n",
      "Precision@3:                  \t0.0873\n",
      "Precision@5:                  \t0.0857\n",
      "True positives:               \t6985\n",
      "False positives:              \t10096\n",
      "False negatives:              \t43413\n",
      "Documents evaluated:          \t39643\n"
     ]
    }
   ],
   "source": [
    "! annif eval cm-mllm-en committees-test.tsv.gz -l 15 -t 0.15"
   ]
  },
  {
   "cell_type": "code",
   "execution_count": 11,
   "metadata": {},
   "outputs": [
    {
     "name": "stdout",
     "output_type": "stream",
     "text": [
      "Backend nn_ensemble: creating NN ensemble model\n",
      "Backend nn_ensemble: Initializing source projects: cm-parabel-en, cm-bonsai-en\n",
      "2024-09-10T13:47:40.187Z \u001b[36mINFO \u001b[0m [omikuji::model] Loading model from data/projects/cm-parabel-en/omikuji-model...\n",
      "2024-09-10T13:47:40.187Z \u001b[36mINFO \u001b[0m [omikuji::model] Loading model settings from data/projects/cm-parabel-en/omikuji-model/settings.json...\n",
      "2024-09-10T13:47:40.189Z \u001b[36mINFO \u001b[0m [omikuji::model] Loaded model settings Settings { n_features: 131689, classifier_loss_type: Hinge }...\n",
      "2024-09-10T13:47:40.190Z \u001b[36mINFO \u001b[0m [omikuji::model] Loading tree from data/projects/cm-parabel-en/omikuji-model/tree0.cbor...\n",
      "2024-09-10T13:47:40.233Z \u001b[36mINFO \u001b[0m [omikuji::model] Loading tree from data/projects/cm-parabel-en/omikuji-model/tree1.cbor...\n",
      "2024-09-10T13:47:40.275Z \u001b[36mINFO \u001b[0m [omikuji::model] Loading tree from data/projects/cm-parabel-en/omikuji-model/tree2.cbor...\n",
      "2024-09-10T13:47:40.320Z \u001b[36mINFO \u001b[0m [omikuji::model] Loaded model with 3 trees; it took 0.13s\n",
      "2024-09-10T13:47:46.316Z \u001b[36mINFO \u001b[0m [omikuji::model] Loading model from data/projects/cm-bonsai-en/omikuji-model...\n",
      "2024-09-10T13:47:46.316Z \u001b[36mINFO \u001b[0m [omikuji::model] Loading model settings from data/projects/cm-bonsai-en/omikuji-model/settings.json...\n",
      "2024-09-10T13:47:46.318Z \u001b[36mINFO \u001b[0m [omikuji::model] Loaded model settings Settings { n_features: 1599658, classifier_loss_type: Hinge }...\n",
      "2024-09-10T13:47:46.319Z \u001b[36mINFO \u001b[0m [omikuji::model] Loading tree from data/projects/cm-bonsai-en/omikuji-model/tree0.cbor...\n",
      "2024-09-10T13:47:46.515Z \u001b[36mINFO \u001b[0m [omikuji::model] Loading tree from data/projects/cm-bonsai-en/omikuji-model/tree1.cbor...\n",
      "2024-09-10T13:47:46.690Z \u001b[36mINFO \u001b[0m [omikuji::model] Loading tree from data/projects/cm-bonsai-en/omikuji-model/tree2.cbor...\n",
      "2024-09-10T13:47:46.880Z \u001b[36mINFO \u001b[0m [omikuji::model] Loaded model with 3 trees; it took 0.56s\n",
      "Backend nn_ensemble: Processing training documents...\n",
      "Backend nn_ensemble: Training neural network model...\n",
      "Epoch 1/10\n",
      "2891/2891 [==============================] - 57s 20ms/step - loss: 0.0360 - top_k_categorical_accuracy: 0.9839\n",
      "Epoch 2/10\n",
      "2891/2891 [==============================] - 57s 20ms/step - loss: 0.0354 - top_k_categorical_accuracy: 0.9833\n",
      "Epoch 3/10\n",
      "2891/2891 [==============================] - 57s 20ms/step - loss: 0.0354 - top_k_categorical_accuracy: 0.9835\n",
      "Epoch 4/10\n",
      "2891/2891 [==============================] - 59s 20ms/step - loss: 0.0354 - top_k_categorical_accuracy: 0.9832\n",
      "Epoch 5/10\n",
      "2891/2891 [==============================] - 58s 20ms/step - loss: 0.0352 - top_k_categorical_accuracy: 0.9835\n",
      "Epoch 6/10\n",
      "2891/2891 [==============================] - 60s 21ms/step - loss: 0.0354 - top_k_categorical_accuracy: 0.9829\n",
      "Epoch 7/10\n",
      "2891/2891 [==============================] - 64s 22ms/step - loss: 0.0356 - top_k_categorical_accuracy: 0.9825\n",
      "Epoch 8/10\n",
      "2891/2891 [==============================] - 58s 20ms/step - loss: 0.0356 - top_k_categorical_accuracy: 0.9825\n",
      "Epoch 9/10\n",
      "2891/2891 [==============================] - 60s 21ms/step - loss: 0.0352 - top_k_categorical_accuracy: 0.9834\n",
      "Epoch 10/10\n",
      "2891/2891 [==============================] - 59s 20ms/step - loss: 0.0355 - top_k_categorical_accuracy: 0.9830\n"
     ]
    }
   ],
   "source": [
    "! annif train cm-nn-ensemble-en committees-train.tsv.gz"
   ]
  },
  {
   "cell_type": "code",
   "execution_count": 12,
   "metadata": {},
   "outputs": [
    {
     "name": "stdout",
     "output_type": "stream",
     "text": [
      "2024-09-10T14:49:13.380Z \u001b[36mINFO \u001b[0m [omikuji::model] Loading model from data/projects/cm-parabel-en/omikuji-model...\n",
      "2024-09-10T14:49:13.380Z \u001b[36mINFO \u001b[0m [omikuji::model] Loading model settings from data/projects/cm-parabel-en/omikuji-model/settings.json...\n",
      "2024-09-10T14:49:13.382Z \u001b[36mINFO \u001b[0m [omikuji::model] Loaded model settings Settings { n_features: 131689, classifier_loss_type: Hinge }...\n",
      "2024-09-10T14:49:13.384Z \u001b[36mINFO \u001b[0m [omikuji::model] Loading tree from data/projects/cm-parabel-en/omikuji-model/tree0.cbor...\n",
      "2024-09-10T14:49:13.427Z \u001b[36mINFO \u001b[0m [omikuji::model] Loading tree from data/projects/cm-parabel-en/omikuji-model/tree1.cbor...\n",
      "2024-09-10T14:49:13.552Z \u001b[36mINFO \u001b[0m [omikuji::model] Loading tree from data/projects/cm-parabel-en/omikuji-model/tree2.cbor...\n",
      "2024-09-10T14:49:13.675Z \u001b[36mINFO \u001b[0m [omikuji::model] Loaded model with 3 trees; it took 0.30s\n",
      "2024-09-10T14:49:20.219Z \u001b[36mINFO \u001b[0m [omikuji::model] Loading model from data/projects/cm-bonsai-en/omikuji-model...\n",
      "2024-09-10T14:49:20.219Z \u001b[36mINFO \u001b[0m [omikuji::model] Loading model settings from data/projects/cm-bonsai-en/omikuji-model/settings.json...\n",
      "2024-09-10T14:49:20.223Z \u001b[36mINFO \u001b[0m [omikuji::model] Loaded model settings Settings { n_features: 1599658, classifier_loss_type: Hinge }...\n",
      "2024-09-10T14:49:20.225Z \u001b[36mINFO \u001b[0m [omikuji::model] Loading tree from data/projects/cm-bonsai-en/omikuji-model/tree0.cbor...\n",
      "2024-09-10T14:49:20.431Z \u001b[36mINFO \u001b[0m [omikuji::model] Loading tree from data/projects/cm-bonsai-en/omikuji-model/tree1.cbor...\n",
      "2024-09-10T14:49:20.629Z \u001b[36mINFO \u001b[0m [omikuji::model] Loading tree from data/projects/cm-bonsai-en/omikuji-model/tree2.cbor...\n",
      "2024-09-10T14:49:20.914Z \u001b[36mINFO \u001b[0m [omikuji::model] Loaded model with 3 trees; it took 0.70s\n",
      "Precision (doc avg):          \t0.6630\n",
      "Recall (doc avg):             \t0.9714\n",
      "F1 score (doc avg):           \t0.7559\n",
      "Precision (subj avg):         \t0.4586\n",
      "Recall (subj avg):            \t0.7349\n",
      "F1 score (subj avg):          \t0.5605\n",
      "Precision (weighted subj avg):\t0.5972\n",
      "Recall (weighted subj avg):   \t0.9600\n",
      "F1 score (weighted subj avg): \t0.7312\n",
      "Precision (microavg):         \t0.5795\n",
      "Recall (microavg):            \t0.9600\n",
      "F1 score (microavg):          \t0.7227\n",
      "F1@5:                         \t0.7560\n",
      "NDCG:                         \t0.9162\n",
      "NDCG@5:                       \t0.9159\n",
      "NDCG@10:                      \t0.9162\n",
      "Precision@1:                  \t0.8342\n",
      "Precision@3:                  \t0.6719\n",
      "Precision@5:                  \t0.6644\n",
      "True positives:               \t48380\n",
      "False positives:              \t35111\n",
      "False negatives:              \t2018\n",
      "Documents evaluated:          \t39643\n"
     ]
    }
   ],
   "source": [
    "! annif eval cm-nn-ensemble-en committees-test.tsv.gz -l 15 -t 0.15"
   ]
  }
 ],
 "metadata": {
  "kernelspec": {
   "display_name": "annif-bill-committees-us-yYLEQewj-py3.10",
   "language": "python",
   "name": "python3"
  },
  "language_info": {
   "codemirror_mode": {
    "name": "ipython",
    "version": 3
   },
   "file_extension": ".py",
   "mimetype": "text/x-python",
   "name": "python",
   "nbconvert_exporter": "python",
   "pygments_lexer": "ipython3",
   "version": "3.10.12"
  }
 },
 "nbformat": 4,
 "nbformat_minor": 2
}
