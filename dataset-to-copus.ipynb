{
 "cells": [
  {
   "cell_type": "code",
   "execution_count": 15,
   "metadata": {},
   "outputs": [],
   "source": [
    "import pandas as pd\n",
    "from sklearn.model_selection import StratifiedShuffleSplit\n",
    "import numpy as np"
   ]
  },
  {
   "cell_type": "code",
   "execution_count": 1,
   "metadata": {},
   "outputs": [
    {
     "data": {
      "application/vnd.jupyter.widget-view+json": {
       "model_id": "9f032d7c14ef406dbfdfcff0538fa64a",
       "version_major": 2,
       "version_minor": 0
      },
      "text/plain": [
       "Downloading readme:   0%|          | 0.00/5.44k [00:00<?, ?B/s]"
      ]
     },
     "metadata": {},
     "output_type": "display_data"
    },
    {
     "data": {
      "application/vnd.jupyter.widget-view+json": {
       "model_id": "8c684d9c9cb4405aa643524b38557e6f",
       "version_major": 2,
       "version_minor": 0
      },
      "text/plain": [
       "Downloading data:   0%|          | 0.00/5.46G [00:00<?, ?B/s]"
      ]
     },
     "metadata": {},
     "output_type": "display_data"
    },
    {
     "data": {
      "application/vnd.jupyter.widget-view+json": {
       "model_id": "66037659660441a78a0955ac2fcf8ae1",
       "version_major": 2,
       "version_minor": 0
      },
      "text/plain": [
       "Generating train split: 0 examples [00:00, ? examples/s]"
      ]
     },
     "metadata": {},
     "output_type": "display_data"
    },
    {
     "data": {
      "text/plain": [
       "Dataset({\n",
       "    features: ['id', 'congress', 'bill_type', 'bill_number', 'bill_version', 'title', 'sections', 'sections_length', 'text', 'text_length', 'committees'],\n",
       "    num_rows: 132142\n",
       "})"
      ]
     },
     "execution_count": 1,
     "metadata": {},
     "output_type": "execute_result"
    }
   ],
   "source": [
    "from datasets import load_dataset\n",
    "\n",
    "dataset = load_dataset(\"dreamproit/bill_committees_us\", split='train') # the original dataset only has a \"train\" split\n",
    "dataset"
   ]
  },
  {
   "cell_type": "code",
   "execution_count": 3,
   "metadata": {},
   "outputs": [
    {
     "name": "stdout",
     "output_type": "stream",
     "text": [
      "https://www.congress.gov/committees1\tAging (Special) Committee\n",
      "https://www.congress.gov/committees2\tAgriculture Committee\n",
      "https://www.congress.gov/committees3\tAgriculture, Nutrition, and Forestry Committee\n",
      "https://www.congress.gov/committees4\tAppropriations Committee\n",
      "https://www.congress.gov/committees5\tArmed Services Committee\n",
      "https://www.congress.gov/committees6\tBanking, Housing, and Urban Affairs Committee\n",
      "https://www.congress.gov/committees7\tBudget Committee\n",
      "https://www.congress.gov/committees8\tCommerce, Science, and Transportation Committee\n",
      "https://www.congress.gov/committees9\tCommission on Security and Cooperation in Europe (U.S. Helsinki Commission)\n",
      "https://www.congress.gov/committees10\tCommittee on House Administration\n",
      "wrote 38 committees into committees.csv\n"
     ]
    }
   ],
   "source": [
    "# Convert committees to Annif CSV vocabulary\n",
    "\n",
    "import csv\n",
    "\n",
    "FIELDS = ('uri', 'label_en')\n",
    "OUTFILE = 'committees.csv'\n",
    "\n",
    "committees = sorted(set([item for row in dataset['committees'] for item in row]))\n",
    "committees_uri = {}\n",
    "\n",
    "# This page lists the committees. It is hard map committee name from dataset with url.\n",
    "URIBASE = 'https://www.congress.gov/committees'\n",
    "\n",
    "with open(OUTFILE, 'w', newline='') as outfile:\n",
    "    writer = csv.DictWriter(outfile, fieldnames=FIELDS)\n",
    "    writer.writeheader()\n",
    "\n",
    "    count = 0\n",
    "    for idx, committee_name in enumerate(committees):\n",
    "        uri = URIBASE + str(idx+1)\n",
    "        item = {\n",
    "            'uri': uri,\n",
    "            'label_en': committee_name,\n",
    "        }\n",
    "        if idx < 10:\n",
    "            print(f\"{uri}\\t{committee_name}\")\n",
    "        committees_uri[committee_name] = uri\n",
    "        writer.writerow(item)\n",
    "        count += 1\n",
    "\n",
    "    print(f\"wrote {count} committees into {OUTFILE}\")"
   ]
  },
  {
   "cell_type": "code",
   "execution_count": 4,
   "metadata": {},
   "outputs": [
    {
     "data": {
      "text/plain": [
       "DatasetDict({\n",
       "    train: Dataset({\n",
       "        features: ['id', 'congress', 'bill_type', 'bill_number', 'bill_version', 'title', 'sections', 'sections_length', 'text', 'text_length', 'committees'],\n",
       "        num_rows: 92499\n",
       "    })\n",
       "    test: Dataset({\n",
       "        features: ['id', 'congress', 'bill_type', 'bill_number', 'bill_version', 'title', 'sections', 'sections_length', 'text', 'text_length', 'committees'],\n",
       "        num_rows: 39643\n",
       "    })\n",
       "})"
      ]
     },
     "execution_count": 4,
     "metadata": {},
     "output_type": "execute_result"
    }
   ],
   "source": [
    "ds_split = dataset.train_test_split(test_size=0.3)\n",
    "ds_split"
   ]
  },
  {
   "cell_type": "code",
   "execution_count": 10,
   "metadata": {},
   "outputs": [
    {
     "data": {
      "application/vnd.jupyter.widget-view+json": {
       "model_id": "26b5ef3459f4411aac9a27dd258d2bd5",
       "version_major": 2,
       "version_minor": 0
      },
      "text/plain": [
       "Map:   0%|          | 0/132142 [00:00<?, ? examples/s]"
      ]
     },
     "metadata": {},
     "output_type": "display_data"
    }
   ],
   "source": [
    "def flatten_committees(example):\n",
    "    example['flat_committees'] = ','.join(map(str, example['committees']))\n",
    "    return example\n",
    "\n",
    "# Add the 'flat_committees' column\n",
    "dataset = dataset.map(flatten_committees)\n",
    "\n",
    "df = pd.DataFrame(dataset)\n",
    "\n",
    "# Count the occurrences of each class\n",
    "counts = df['flat_committees'].value_counts()\n",
    "\n",
    "# Identify the classes that have less than 2 instances\n",
    "less_frequent = counts[counts < 2].index\n",
    "\n",
    "# Group the less frequent classes into an 'other' category\n",
    "df['flat_committees'] = df['flat_committees'].replace(less_frequent, 'other')\n",
    "\n",
    "# Now you can perform the stratified split as before\n",
    "sss = StratifiedShuffleSplit(n_splits=1, test_size=0.3, random_state=0)\n",
    "for train_index, test_index in sss.split(np.zeros(len(df)), df['flat_committees']):\n",
    "    train_ds = df.iloc[train_index]\n",
    "    test_ds = df.iloc[test_index]"
   ]
  },
  {
   "cell_type": "code",
   "execution_count": 13,
   "metadata": {},
   "outputs": [
    {
     "name": "stdout",
     "output_type": "stream",
     "text": [
      "Training set counts:\n",
      " Judiciary Committee                                                            13668\n",
      "Ways and Means Committee                                                       12638\n",
      "Energy and Commerce Committee                                                  11589\n",
      "Education and the Workforce Committee                                           6701\n",
      "Finance Committee                                                               6338\n",
      "Oversight and Accountability Committee                                          5868\n",
      "Natural Resources Committee                                                     5440\n",
      "Foreign Affairs Committee                                                       5122\n",
      "Financial Services Committee                                                    4467\n",
      "Health, Education, Labor, and Pensions Committee                                4341\n",
      "Transportation and Infrastructure Committee                                     4331\n",
      "Armed Services Committee                                                        4180\n",
      "Veterans' Affairs Committee                                                     4171\n",
      "Energy and Natural Resources Committee                                          2967\n",
      "Homeland Security and Governmental Affairs Committee                            2686\n",
      "Agriculture Committee                                                           2340\n",
      "Commerce, Science, and Transportation Committee                                 2276\n",
      "Foreign Relations Committee                                                     2255\n",
      "Committee on House Administration                                               2213\n",
      "Banking, Housing, and Urban Affairs Committee                                   2054\n",
      "Rules Committee                                                                 2023\n",
      "Environment and Public Works Committee                                          1620\n",
      "Science, Space, and Technology Committee                                        1559\n",
      "Homeland Security Committee                                                     1498\n",
      "Budget Committee                                                                1167\n",
      "Agriculture, Nutrition, and Forestry Committee                                   980\n",
      "Appropriations Committee                                                         933\n",
      "Small Business Committee                                                         796\n",
      "Rules and Administration Committee                                               636\n",
      "Small Business and Entrepreneurship Committee                                    494\n",
      "Indian Affairs Committee                                                         461\n",
      "Intelligence (Permanent Select) Committee                                        438\n",
      "Ethics Committee                                                                  95\n",
      "Intelligence (Select) Committee                                                   80\n",
      "Aging (Special) Committee                                                         11\n",
      "United States Senate Caucus on International Narcotics Control                     6\n",
      "Commission on Security and Cooperation in Europe (U.S. Helsinki Commission)        1\n",
      "Ethics (Select) Committee                                                          1\n",
      "Name: count, dtype: int64\n",
      "Test set counts:\n",
      " Judiciary Committee                                                            5895\n",
      "Ways and Means Committee                                                       5443\n",
      "Energy and Commerce Committee                                                  4982\n",
      "Education and the Workforce Committee                                          2861\n",
      "Finance Committee                                                              2715\n",
      "Oversight and Accountability Committee                                         2500\n",
      "Natural Resources Committee                                                    2313\n",
      "Foreign Affairs Committee                                                      2184\n",
      "Financial Services Committee                                                   1945\n",
      "Health, Education, Labor, and Pensions Committee                               1858\n",
      "Transportation and Infrastructure Committee                                    1838\n",
      "Veterans' Affairs Committee                                                    1791\n",
      "Armed Services Committee                                                       1789\n",
      "Energy and Natural Resources Committee                                         1269\n",
      "Homeland Security and Governmental Affairs Committee                           1144\n",
      "Agriculture Committee                                                           995\n",
      "Foreign Relations Committee                                                     968\n",
      "Commerce, Science, and Transportation Committee                                 966\n",
      "Committee on House Administration                                               944\n",
      "Banking, Housing, and Urban Affairs Committee                                   882\n",
      "Rules Committee                                                                 867\n",
      "Environment and Public Works Committee                                          704\n",
      "Science, Space, and Technology Committee                                        664\n",
      "Homeland Security Committee                                                     632\n",
      "Budget Committee                                                                498\n",
      "Agriculture, Nutrition, and Forestry Committee                                  418\n",
      "Appropriations Committee                                                        385\n",
      "Small Business Committee                                                        346\n",
      "Rules and Administration Committee                                              272\n",
      "Small Business and Entrepreneurship Committee                                   210\n",
      "Indian Affairs Committee                                                        197\n",
      "Intelligence (Permanent Select) Committee                                       185\n",
      "Ethics Committee                                                                 39\n",
      "Intelligence (Select) Committee                                                  31\n",
      "United States Senate Caucus on International Narcotics Control                    4\n",
      "Aging (Special) Committee                                                         4\n",
      "Commission on Security and Cooperation in Europe (U.S. Helsinki Commission)       1\n",
      "Name: count, dtype: int64\n"
     ]
    }
   ],
   "source": [
    "# Flatten the lists in the 'committees' column for the training set\n",
    "train_committees = pd.Series([item for sublist in train_ds['committees'] for item in sublist])\n",
    "\n",
    "# Flatten the lists in the 'committees' column for the test set\n",
    "test_committees = pd.Series([item for sublist in test_ds['committees'] for item in sublist])\n",
    "\n",
    "# Count the occurrences of each unique value\n",
    "train_counts = train_committees.value_counts()\n",
    "test_counts = test_committees.value_counts()\n",
    "\n",
    "print(\"Training set counts:\\n\", train_counts)\n",
    "print(\"Test set counts:\\n\", test_counts)"
   ]
  },
  {
   "cell_type": "code",
   "execution_count": 16,
   "metadata": {},
   "outputs": [
    {
     "name": "stdout",
     "output_type": "stream",
     "text": [
      "Training set counts:\n",
      " Judiciary Committee                                                            13755\n",
      "Ways and Means Committee                                                       12605\n",
      "Energy and Commerce Committee                                                  11543\n",
      "Education and the Workforce Committee                                           6692\n",
      "Finance Committee                                                               6273\n",
      "Oversight and Accountability Committee                                          5788\n",
      "Natural Resources Committee                                                     5388\n",
      "Foreign Affairs Committee                                                       5141\n",
      "Financial Services Committee                                                    4523\n",
      "Health, Education, Labor, and Pensions Committee                                4364\n",
      "Transportation and Infrastructure Committee                                     4326\n",
      "Armed Services Committee                                                        4228\n",
      "Veterans' Affairs Committee                                                     4224\n",
      "Energy and Natural Resources Committee                                          2965\n",
      "Homeland Security and Governmental Affairs Committee                            2645\n",
      "Agriculture Committee                                                           2357\n",
      "Foreign Relations Committee                                                     2273\n",
      "Commerce, Science, and Transportation Committee                                 2263\n",
      "Committee on House Administration                                               2233\n",
      "Banking, Housing, and Urban Affairs Committee                                   2092\n",
      "Rules Committee                                                                 2057\n",
      "Environment and Public Works Committee                                          1611\n",
      "Science, Space, and Technology Committee                                        1548\n",
      "Homeland Security Committee                                                     1504\n",
      "Budget Committee                                                                1144\n",
      "Agriculture, Nutrition, and Forestry Committee                                   931\n",
      "Appropriations Committee                                                         907\n",
      "Small Business Committee                                                         808\n",
      "Rules and Administration Committee                                               649\n",
      "Small Business and Entrepreneurship Committee                                    505\n",
      "Indian Affairs Committee                                                         445\n",
      "Intelligence (Permanent Select) Committee                                        432\n",
      "Ethics Committee                                                                  92\n",
      "Intelligence (Select) Committee                                                   85\n",
      "Aging (Special) Committee                                                         12\n",
      "United States Senate Caucus on International Narcotics Control                     7\n",
      "Commission on Security and Cooperation in Europe (U.S. Helsinki Commission)        2\n",
      "Name: count, dtype: int64\n",
      "Test set counts:\n",
      " Judiciary Committee                                               5808\n",
      "Ways and Means Committee                                          5476\n",
      "Energy and Commerce Committee                                     5028\n",
      "Education and the Workforce Committee                             2870\n",
      "Finance Committee                                                 2780\n",
      "Oversight and Accountability Committee                            2580\n",
      "Natural Resources Committee                                       2365\n",
      "Foreign Affairs Committee                                         2165\n",
      "Financial Services Committee                                      1889\n",
      "Transportation and Infrastructure Committee                       1843\n",
      "Health, Education, Labor, and Pensions Committee                  1835\n",
      "Armed Services Committee                                          1741\n",
      "Veterans' Affairs Committee                                       1738\n",
      "Energy and Natural Resources Committee                            1271\n",
      "Homeland Security and Governmental Affairs Committee              1185\n",
      "Commerce, Science, and Transportation Committee                    979\n",
      "Agriculture Committee                                              978\n",
      "Foreign Relations Committee                                        950\n",
      "Committee on House Administration                                  924\n",
      "Banking, Housing, and Urban Affairs Committee                      844\n",
      "Rules Committee                                                    833\n",
      "Environment and Public Works Committee                             713\n",
      "Science, Space, and Technology Committee                           675\n",
      "Homeland Security Committee                                        626\n",
      "Budget Committee                                                   521\n",
      "Agriculture, Nutrition, and Forestry Committee                     467\n",
      "Appropriations Committee                                           411\n",
      "Small Business Committee                                           334\n",
      "Rules and Administration Committee                                 259\n",
      "Indian Affairs Committee                                           213\n",
      "Small Business and Entrepreneurship Committee                      199\n",
      "Intelligence (Permanent Select) Committee                          191\n",
      "Ethics Committee                                                    42\n",
      "Intelligence (Select) Committee                                     26\n",
      "United States Senate Caucus on International Narcotics Control       3\n",
      "Aging (Special) Committee                                            3\n",
      "Ethics (Select) Committee                                            1\n",
      "Name: count, dtype: int64\n"
     ]
    }
   ],
   "source": [
    "# Flatten the lists in the 'committees' column for the training set\n",
    "train_committees = pd.Series([item for sublist in ds_split['train']['committees'] for item in sublist])\n",
    "\n",
    "# Flatten the lists in the 'committees' column for the test set\n",
    "test_committees = pd.Series([item for sublist in ds_split['test']['committees'] for item in sublist])\n",
    "\n",
    "# Count the occurrences of each unique value\n",
    "train_counts = train_committees.value_counts()\n",
    "test_counts = test_committees.value_counts()\n",
    "\n",
    "print(\"Training set counts:\\n\", train_counts)\n",
    "print(\"Test set counts:\\n\", test_counts)"
   ]
  },
  {
   "cell_type": "code",
   "execution_count": 18,
   "metadata": {},
   "outputs": [
    {
     "name": "stdout",
     "output_type": "stream",
     "text": [
      "CPU times: user 7min 6s, sys: 3.23 s, total: 7min 9s\n",
      "Wall time: 7min 38s\n"
     ]
    }
   ],
   "source": [
    "%%time\n",
    "\n",
    "# create the commitees corpora from the train and test sets\n",
    "\n",
    "import gzip\n",
    "\n",
    "def normalize_text(text):\n",
    "    try:\n",
    "        return ' '.join(text.split())\n",
    "    except:\n",
    "        return ''\n",
    "\n",
    "def to_committees_corpus(ds, outfile):\n",
    "    for item in ds:\n",
    "        title = normalize_text(item['title'])\n",
    "        text = normalize_text(item['text'])\n",
    "        uris = [f\"<{committees_uri[committee]}>\" for committee in item['committees']]\n",
    "\n",
    "        print(f\"{title} ¤ {text}\\t{' '.join(uris)}\", file=outfile)\n",
    "\n",
    "with gzip.open('committees-train.tsv.gz', 'wt') as outfile:\n",
    "    to_committees_corpus(ds_split['train'], outfile)\n",
    "\n",
    "with gzip.open('committees-test.tsv.gz', 'wt') as outfile:\n",
    "    to_committees_corpus(ds_split['test'], outfile)"
   ]
  }
 ],
 "metadata": {
  "kernelspec": {
   "display_name": "Python 3",
   "language": "python",
   "name": "python3"
  },
  "language_info": {
   "codemirror_mode": {
    "name": "ipython",
    "version": 3
   },
   "file_extension": ".py",
   "mimetype": "text/x-python",
   "name": "python",
   "nbconvert_exporter": "python",
   "pygments_lexer": "ipython3",
   "version": "3.10.12"
  }
 },
 "nbformat": 4,
 "nbformat_minor": 2
}
